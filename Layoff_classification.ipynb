{
 "cells": [
  {
   "cell_type": "markdown",
   "metadata": {},
   "source": [
    "# Layoff Classification Prediction\n",
    "\n",
    "Tech firms around the globe are fighting the economic slowdown. The slow consumer spending, higher interest rates by central banks and strong dollars overseas are hinting towards possible recession and tech firms have started laying employees off. This economic slowdown has made Meta recently fire 13% of its workforce, which amounts to more than 11,000 employees.\n",
    "Tracking the tech layoffs reported on the following platforms:\n",
    "- Bloomberg\n",
    "- San Francisco Business Times\n",
    "- TechCrunch\n",
    "- The New York Times\n",
    "\n",
    "The data availability is from when COVID-19 was declared as a pandemic i.e. 11 March 2020 to present (21 Apr 2025).\n",
    "In this project we are predicting on which stage the company is based on other information provided."
   ]
  },
  {
   "cell_type": "markdown",
   "metadata": {},
   "source": [
    "## Loading the dataset\n",
    "\n",
    "Here we are loading the dataset and imprting libraries required for the project."
   ]
  },
  {
   "cell_type": "code",
   "execution_count": 1,
   "metadata": {
    "_cell_guid": "b1076dfc-b9ad-4769-8c92-a6c4dae69d19",
    "_uuid": "8f2839f25d086af736a60e9eeb907d3b93b6e0e5",
    "execution": {
     "iopub.execute_input": "2025-06-10T20:07:01.440767Z",
     "iopub.status.busy": "2025-06-10T20:07:01.440454Z",
     "iopub.status.idle": "2025-06-10T20:07:01.450163Z",
     "shell.execute_reply": "2025-06-10T20:07:01.449122Z",
     "shell.execute_reply.started": "2025-06-10T20:07:01.440744Z"
    },
    "trusted": true
   },
   "outputs": [],
   "source": [
    "\n",
    "import numpy as np # linear algebra\n",
    "import pandas as pd # data processing, CSV file I/O (e.g. pd.read_csv)\n",
    "import seaborn as sns\n",
    "import matplotlib as mpl\n",
    "import matplotlib.pyplot as plt\n",
    "from sklearn.preprocessing import LabelEncoder\n",
    "from sklearn.model_selection import train_test_split\n",
    "from sklearn.ensemble import AdaBoostClassifier\n",
    "from sklearn.ensemble import RandomForestClassifier\n",
    "from imblearn.over_sampling import SMOTENC\n",
    "from sklearn.model_selection import KFold\n",
    "from sklearn.model_selection import GridSearchCV\n",
    "from sklearn.metrics import accuracy_score,confusion_matrix,classification_report,ConfusionMatrixDisplay\n",
    "# Input data files are available in the read-only \"../input/\" directory\n",
    "# For example, running this (by clicking run or pressing Shift+Enter) will list all files under the input directory\n",
    "\n",
    "import os\n",
    "for dirname, _, filenames in os.walk('/kaggle/input'):\n",
    "    for filename in filenames:\n",
    "        print(os.path.join(dirname, filename))\n",
    "\n",
    "# You can write up to 20GB to the current directory (/kaggle/working/) that gets preserved as output when you create a version using \"Save & Run All\" \n",
    "# You can also write temporary files to /kaggle/temp/, but they won't be saved outside of the current session"
   ]
  },
  {
   "cell_type": "code",
   "execution_count": 2,
   "metadata": {
    "execution": {
     "iopub.execute_input": "2025-06-10T20:07:01.452431Z",
     "iopub.status.busy": "2025-06-10T20:07:01.451873Z",
     "iopub.status.idle": "2025-06-10T20:07:01.489587Z",
     "shell.execute_reply": "2025-06-10T20:07:01.488686Z",
     "shell.execute_reply.started": "2025-06-10T20:07:01.452397Z"
    },
    "trusted": true
   },
   "outputs": [],
   "source": [
    "layoff_data = pd.read_csv('C:/Users/91701/Downloads/mydata/layoffs.csv')"
   ]
  },
  {
   "cell_type": "code",
   "execution_count": 3,
   "metadata": {
    "execution": {
     "iopub.execute_input": "2025-06-10T20:07:01.490671Z",
     "iopub.status.busy": "2025-06-10T20:07:01.490404Z",
     "iopub.status.idle": "2025-06-10T20:07:01.507038Z",
     "shell.execute_reply": "2025-06-10T20:07:01.506069Z",
     "shell.execute_reply.started": "2025-06-10T20:07:01.490642Z"
    },
    "trusted": true
   },
   "outputs": [
    {
     "data": {
      "text/html": [
       "<div>\n",
       "<style scoped>\n",
       "    .dataframe tbody tr th:only-of-type {\n",
       "        vertical-align: middle;\n",
       "    }\n",
       "\n",
       "    .dataframe tbody tr th {\n",
       "        vertical-align: top;\n",
       "    }\n",
       "\n",
       "    .dataframe thead th {\n",
       "        text-align: right;\n",
       "    }\n",
       "</style>\n",
       "<table border=\"1\" class=\"dataframe\">\n",
       "  <thead>\n",
       "    <tr style=\"text-align: right;\">\n",
       "      <th></th>\n",
       "      <th>company</th>\n",
       "      <th>location</th>\n",
       "      <th>total_laid_off</th>\n",
       "      <th>date</th>\n",
       "      <th>percentage_laid_off</th>\n",
       "      <th>industry</th>\n",
       "      <th>source</th>\n",
       "      <th>stage</th>\n",
       "      <th>funds_raised</th>\n",
       "      <th>country</th>\n",
       "      <th>date_added</th>\n",
       "    </tr>\n",
       "  </thead>\n",
       "  <tbody>\n",
       "    <tr>\n",
       "      <th>0</th>\n",
       "      <td>Airtime</td>\n",
       "      <td>New York City</td>\n",
       "      <td>25.0</td>\n",
       "      <td>6/4/2025</td>\n",
       "      <td>43%</td>\n",
       "      <td>Consumer</td>\n",
       "      <td>https://techcrunch.com/2025/06/04/its-layoff-s...</td>\n",
       "      <td>Series B</td>\n",
       "      <td>$33</td>\n",
       "      <td>United States</td>\n",
       "      <td>6/5/2025</td>\n",
       "    </tr>\n",
       "    <tr>\n",
       "      <th>1</th>\n",
       "      <td>Microsoft</td>\n",
       "      <td>Seattle</td>\n",
       "      <td>305.0</td>\n",
       "      <td>6/2/2025</td>\n",
       "      <td>3%</td>\n",
       "      <td>Other</td>\n",
       "      <td>https://www.geekwire.com/2025/new-filing-micro...</td>\n",
       "      <td>Post-IPO</td>\n",
       "      <td>$1</td>\n",
       "      <td>United States</td>\n",
       "      <td>6/5/2025</td>\n",
       "    </tr>\n",
       "    <tr>\n",
       "      <th>2</th>\n",
       "      <td>Hims &amp; Hers</td>\n",
       "      <td>SF Bay Area</td>\n",
       "      <td>68.0</td>\n",
       "      <td>5/30/2025</td>\n",
       "      <td>4%</td>\n",
       "      <td>Healthcare</td>\n",
       "      <td>https://www.reuters.com/business/healthcare-ph...</td>\n",
       "      <td>Post-IPO</td>\n",
       "      <td>$1200</td>\n",
       "      <td>United States</td>\n",
       "      <td>6/5/2025</td>\n",
       "    </tr>\n",
       "    <tr>\n",
       "      <th>3</th>\n",
       "      <td>Business Insider</td>\n",
       "      <td>New York City</td>\n",
       "      <td>NaN</td>\n",
       "      <td>5/29/2025</td>\n",
       "      <td>20%</td>\n",
       "      <td>Media</td>\n",
       "      <td>https://www.adweek.com/media/business-insider-...</td>\n",
       "      <td>Acquired</td>\n",
       "      <td>$56</td>\n",
       "      <td>United States</td>\n",
       "      <td>6/1/2025</td>\n",
       "    </tr>\n",
       "    <tr>\n",
       "      <th>4</th>\n",
       "      <td>eBay</td>\n",
       "      <td>Tel Aviv,Non-U.S.</td>\n",
       "      <td>200.0</td>\n",
       "      <td>5/28/2025</td>\n",
       "      <td>NaN</td>\n",
       "      <td>Retail</td>\n",
       "      <td>https://www.calcalistech.com/ctechnews/article...</td>\n",
       "      <td>Post-IPO</td>\n",
       "      <td>$1200</td>\n",
       "      <td>Israel</td>\n",
       "      <td>6/1/2025</td>\n",
       "    </tr>\n",
       "    <tr>\n",
       "      <th>...</th>\n",
       "      <td>...</td>\n",
       "      <td>...</td>\n",
       "      <td>...</td>\n",
       "      <td>...</td>\n",
       "      <td>...</td>\n",
       "      <td>...</td>\n",
       "      <td>...</td>\n",
       "      <td>...</td>\n",
       "      <td>...</td>\n",
       "      <td>...</td>\n",
       "      <td>...</td>\n",
       "    </tr>\n",
       "    <tr>\n",
       "      <th>4076</th>\n",
       "      <td>Service</td>\n",
       "      <td>Los Angeles</td>\n",
       "      <td>NaN</td>\n",
       "      <td>3/16/2020</td>\n",
       "      <td>100%</td>\n",
       "      <td>Travel</td>\n",
       "      <td>https://techcrunch.com/2020/03/16/travel-savin...</td>\n",
       "      <td>Seed</td>\n",
       "      <td>$5</td>\n",
       "      <td>United States</td>\n",
       "      <td>8/31/2020</td>\n",
       "    </tr>\n",
       "    <tr>\n",
       "      <th>4077</th>\n",
       "      <td>HopSkipDrive</td>\n",
       "      <td>Los Angeles</td>\n",
       "      <td>8.0</td>\n",
       "      <td>3/13/2020</td>\n",
       "      <td>10%</td>\n",
       "      <td>Transportation</td>\n",
       "      <td>https://layoffs.fyi/2020/04/02/hopskipdrive-la...</td>\n",
       "      <td>Unknown</td>\n",
       "      <td>$45</td>\n",
       "      <td>United States</td>\n",
       "      <td>4/3/2020</td>\n",
       "    </tr>\n",
       "    <tr>\n",
       "      <th>4078</th>\n",
       "      <td>Panda Squad</td>\n",
       "      <td>SF Bay Area</td>\n",
       "      <td>6.0</td>\n",
       "      <td>3/13/2020</td>\n",
       "      <td>75%</td>\n",
       "      <td>Consumer</td>\n",
       "      <td>https://twitter.com/danielsinger/status/123854...</td>\n",
       "      <td>Seed</td>\n",
       "      <td>$1</td>\n",
       "      <td>United States</td>\n",
       "      <td>4/17/2020</td>\n",
       "    </tr>\n",
       "    <tr>\n",
       "      <th>4079</th>\n",
       "      <td>Tamara Mellon</td>\n",
       "      <td>Los Angeles</td>\n",
       "      <td>20.0</td>\n",
       "      <td>3/12/2020</td>\n",
       "      <td>40%</td>\n",
       "      <td>Retail</td>\n",
       "      <td>https://layoffs.fyi/list/tamara-mellon/</td>\n",
       "      <td>Series C</td>\n",
       "      <td>$90</td>\n",
       "      <td>United States</td>\n",
       "      <td>3/31/2020</td>\n",
       "    </tr>\n",
       "    <tr>\n",
       "      <th>4080</th>\n",
       "      <td>EasyPost</td>\n",
       "      <td>Salt Lake City</td>\n",
       "      <td>75.0</td>\n",
       "      <td>3/11/2020</td>\n",
       "      <td>NaN</td>\n",
       "      <td>Logistics</td>\n",
       "      <td>https://www.bizjournals.com/louisville/news/20...</td>\n",
       "      <td>Series A</td>\n",
       "      <td>$12</td>\n",
       "      <td>United States</td>\n",
       "      <td>3/31/2020</td>\n",
       "    </tr>\n",
       "  </tbody>\n",
       "</table>\n",
       "<p>4081 rows × 11 columns</p>\n",
       "</div>"
      ],
      "text/plain": [
       "               company           location  total_laid_off       date  \\\n",
       "0              Airtime      New York City            25.0   6/4/2025   \n",
       "1            Microsoft            Seattle           305.0   6/2/2025   \n",
       "2          Hims & Hers        SF Bay Area            68.0  5/30/2025   \n",
       "3     Business Insider      New York City             NaN  5/29/2025   \n",
       "4                 eBay  Tel Aviv,Non-U.S.           200.0  5/28/2025   \n",
       "...                ...                ...             ...        ...   \n",
       "4076           Service        Los Angeles             NaN  3/16/2020   \n",
       "4077      HopSkipDrive        Los Angeles             8.0  3/13/2020   \n",
       "4078       Panda Squad        SF Bay Area             6.0  3/13/2020   \n",
       "4079     Tamara Mellon        Los Angeles            20.0  3/12/2020   \n",
       "4080          EasyPost     Salt Lake City            75.0  3/11/2020   \n",
       "\n",
       "     percentage_laid_off        industry  \\\n",
       "0                    43%        Consumer   \n",
       "1                     3%           Other   \n",
       "2                     4%      Healthcare   \n",
       "3                    20%           Media   \n",
       "4                    NaN          Retail   \n",
       "...                  ...             ...   \n",
       "4076                100%          Travel   \n",
       "4077                 10%  Transportation   \n",
       "4078                 75%        Consumer   \n",
       "4079                 40%          Retail   \n",
       "4080                 NaN       Logistics   \n",
       "\n",
       "                                                 source     stage  \\\n",
       "0     https://techcrunch.com/2025/06/04/its-layoff-s...  Series B   \n",
       "1     https://www.geekwire.com/2025/new-filing-micro...  Post-IPO   \n",
       "2     https://www.reuters.com/business/healthcare-ph...  Post-IPO   \n",
       "3     https://www.adweek.com/media/business-insider-...  Acquired   \n",
       "4     https://www.calcalistech.com/ctechnews/article...  Post-IPO   \n",
       "...                                                 ...       ...   \n",
       "4076  https://techcrunch.com/2020/03/16/travel-savin...      Seed   \n",
       "4077  https://layoffs.fyi/2020/04/02/hopskipdrive-la...   Unknown   \n",
       "4078  https://twitter.com/danielsinger/status/123854...      Seed   \n",
       "4079            https://layoffs.fyi/list/tamara-mellon/  Series C   \n",
       "4080  https://www.bizjournals.com/louisville/news/20...  Series A   \n",
       "\n",
       "     funds_raised        country date_added  \n",
       "0             $33  United States   6/5/2025  \n",
       "1              $1  United States   6/5/2025  \n",
       "2           $1200  United States   6/5/2025  \n",
       "3             $56  United States   6/1/2025  \n",
       "4           $1200         Israel   6/1/2025  \n",
       "...           ...            ...        ...  \n",
       "4076           $5  United States  8/31/2020  \n",
       "4077          $45  United States   4/3/2020  \n",
       "4078           $1  United States  4/17/2020  \n",
       "4079          $90  United States  3/31/2020  \n",
       "4080          $12  United States  3/31/2020  \n",
       "\n",
       "[4081 rows x 11 columns]"
      ]
     },
     "execution_count": 3,
     "metadata": {},
     "output_type": "execute_result"
    }
   ],
   "source": [
    "layoff_data"
   ]
  },
  {
   "cell_type": "markdown",
   "metadata": {},
   "source": [
    "## Exploratory Data Analysis "
   ]
  },
  {
   "cell_type": "markdown",
   "metadata": {},
   "source": [
    "We see there are some null values so we will be replacing them in preprocessing section but we remove the values 'stage' column as this is our target variable."
   ]
  },
  {
   "cell_type": "code",
   "execution_count": 4,
   "metadata": {
    "execution": {
     "iopub.execute_input": "2025-06-10T20:07:01.508925Z",
     "iopub.status.busy": "2025-06-10T20:07:01.508614Z",
     "iopub.status.idle": "2025-06-10T20:07:01.533476Z",
     "shell.execute_reply": "2025-06-10T20:07:01.532480Z",
     "shell.execute_reply.started": "2025-06-10T20:07:01.508904Z"
    },
    "trusted": true
   },
   "outputs": [
    {
     "data": {
      "text/plain": [
       "company                   0\n",
       "location                  1\n",
       "total_laid_off         1418\n",
       "date                      0\n",
       "percentage_laid_off    1484\n",
       "industry                  1\n",
       "source                    3\n",
       "stage                     7\n",
       "funds_raised            447\n",
       "country                   0\n",
       "date_added                0\n",
       "dtype: int64"
      ]
     },
     "execution_count": 4,
     "metadata": {},
     "output_type": "execute_result"
    }
   ],
   "source": [
    "layoff_data.isnull().sum()"
   ]
  },
  {
   "cell_type": "code",
   "execution_count": 5,
   "metadata": {
    "execution": {
     "iopub.execute_input": "2025-06-10T20:07:01.534608Z",
     "iopub.status.busy": "2025-06-10T20:07:01.534362Z",
     "iopub.status.idle": "2025-06-10T20:07:01.563661Z",
     "shell.execute_reply": "2025-06-10T20:07:01.562449Z",
     "shell.execute_reply.started": "2025-06-10T20:07:01.534587Z"
    },
    "trusted": true
   },
   "outputs": [
    {
     "data": {
      "text/plain": [
       "0"
      ]
     },
     "execution_count": 5,
     "metadata": {},
     "output_type": "execute_result"
    }
   ],
   "source": [
    "layoff_data.duplicated().sum()"
   ]
  },
  {
   "cell_type": "code",
   "execution_count": 6,
   "metadata": {
    "execution": {
     "iopub.execute_input": "2025-06-10T20:07:01.565034Z",
     "iopub.status.busy": "2025-06-10T20:07:01.564728Z",
     "iopub.status.idle": "2025-06-10T20:07:01.574849Z",
     "shell.execute_reply": "2025-06-10T20:07:01.573886Z",
     "shell.execute_reply.started": "2025-06-10T20:07:01.565008Z"
    },
    "trusted": true
   },
   "outputs": [],
   "source": [
    "layoff_data = layoff_data.dropna(axis=0, subset=['stage']) #we drop rows where stage column is null"
   ]
  },
  {
   "cell_type": "code",
   "execution_count": 7,
   "metadata": {
    "execution": {
     "iopub.execute_input": "2025-06-10T20:07:01.576157Z",
     "iopub.status.busy": "2025-06-10T20:07:01.575849Z",
     "iopub.status.idle": "2025-06-10T20:07:01.604748Z",
     "shell.execute_reply": "2025-06-10T20:07:01.603666Z",
     "shell.execute_reply.started": "2025-06-10T20:07:01.576130Z"
    },
    "trusted": true
   },
   "outputs": [
    {
     "name": "stdout",
     "output_type": "stream",
     "text": [
      "<class 'pandas.core.frame.DataFrame'>\n",
      "Index: 4074 entries, 0 to 4080\n",
      "Data columns (total 11 columns):\n",
      " #   Column               Non-Null Count  Dtype  \n",
      "---  ------               --------------  -----  \n",
      " 0   company              4074 non-null   object \n",
      " 1   location             4073 non-null   object \n",
      " 2   total_laid_off       2660 non-null   float64\n",
      " 3   date                 4074 non-null   object \n",
      " 4   percentage_laid_off  2591 non-null   object \n",
      " 5   industry             4073 non-null   object \n",
      " 6   source               4071 non-null   object \n",
      " 7   stage                4074 non-null   object \n",
      " 8   funds_raised         3632 non-null   object \n",
      " 9   country              4074 non-null   object \n",
      " 10  date_added           4074 non-null   object \n",
      "dtypes: float64(1), object(10)\n",
      "memory usage: 381.9+ KB\n"
     ]
    }
   ],
   "source": [
    "layoff_data.info()"
   ]
  },
  {
   "cell_type": "markdown",
   "metadata": {},
   "source": [
    "Now we convert the data types of some columns like :\n",
    "- 'date' from object to datetime \n",
    "- 'date_added' from object to datetime\n",
    "- 'percentage_laid_off' from object to int\n",
    "- 'funds_raised' from object to int"
   ]
  },
  {
   "cell_type": "code",
   "execution_count": 8,
   "metadata": {
    "execution": {
     "iopub.execute_input": "2025-06-10T20:07:01.606051Z",
     "iopub.status.busy": "2025-06-10T20:07:01.605741Z",
     "iopub.status.idle": "2025-06-10T20:07:01.635180Z",
     "shell.execute_reply": "2025-06-10T20:07:01.634218Z",
     "shell.execute_reply.started": "2025-06-10T20:07:01.606025Z"
    },
    "trusted": true
   },
   "outputs": [
    {
     "name": "stderr",
     "output_type": "stream",
     "text": [
      "C:\\Users\\91701\\AppData\\Local\\Temp\\ipykernel_18004\\2528794521.py:1: SettingWithCopyWarning: \n",
      "A value is trying to be set on a copy of a slice from a DataFrame.\n",
      "Try using .loc[row_indexer,col_indexer] = value instead\n",
      "\n",
      "See the caveats in the documentation: https://pandas.pydata.org/pandas-docs/stable/user_guide/indexing.html#returning-a-view-versus-a-copy\n",
      "  layoff_data['date'] = pd.to_datetime(layoff_data['date'])\n",
      "C:\\Users\\91701\\AppData\\Local\\Temp\\ipykernel_18004\\2528794521.py:2: SettingWithCopyWarning: \n",
      "A value is trying to be set on a copy of a slice from a DataFrame.\n",
      "Try using .loc[row_indexer,col_indexer] = value instead\n",
      "\n",
      "See the caveats in the documentation: https://pandas.pydata.org/pandas-docs/stable/user_guide/indexing.html#returning-a-view-versus-a-copy\n",
      "  layoff_data['date_added'] = pd.to_datetime(layoff_data['date_added'])\n"
     ]
    }
   ],
   "source": [
    "layoff_data['date'] = pd.to_datetime(layoff_data['date'])\n",
    "layoff_data['date_added'] = pd.to_datetime(layoff_data['date_added'])"
   ]
  },
  {
   "cell_type": "code",
   "execution_count": 9,
   "metadata": {
    "execution": {
     "iopub.execute_input": "2025-06-10T20:07:01.639199Z",
     "iopub.status.busy": "2025-06-10T20:07:01.638918Z",
     "iopub.status.idle": "2025-06-10T20:07:01.650672Z",
     "shell.execute_reply": "2025-06-10T20:07:01.649571Z",
     "shell.execute_reply.started": "2025-06-10T20:07:01.639177Z"
    },
    "trusted": true
   },
   "outputs": [
    {
     "name": "stderr",
     "output_type": "stream",
     "text": [
      "C:\\Users\\91701\\AppData\\Local\\Temp\\ipykernel_18004\\3218360963.py:1: SettingWithCopyWarning: \n",
      "A value is trying to be set on a copy of a slice from a DataFrame.\n",
      "Try using .loc[row_indexer,col_indexer] = value instead\n",
      "\n",
      "See the caveats in the documentation: https://pandas.pydata.org/pandas-docs/stable/user_guide/indexing.html#returning-a-view-versus-a-copy\n",
      "  layoff_data['percentage_laid_off'] = layoff_data['percentage_laid_off'].str.rstrip('%')  # remove '%' at the end\n",
      "C:\\Users\\91701\\AppData\\Local\\Temp\\ipykernel_18004\\3218360963.py:2: SettingWithCopyWarning: \n",
      "A value is trying to be set on a copy of a slice from a DataFrame.\n",
      "Try using .loc[row_indexer,col_indexer] = value instead\n",
      "\n",
      "See the caveats in the documentation: https://pandas.pydata.org/pandas-docs/stable/user_guide/indexing.html#returning-a-view-versus-a-copy\n",
      "  layoff_data['percentage_laid_off'] = pd.to_numeric(layoff_data['percentage_laid_off'], errors='coerce').astype('Int64')  # convert to integer, nullable type\n"
     ]
    }
   ],
   "source": [
    "layoff_data['percentage_laid_off'] = layoff_data['percentage_laid_off'].str.rstrip('%')  # remove '%' at the end\n",
    "layoff_data['percentage_laid_off'] = pd.to_numeric(layoff_data['percentage_laid_off'], errors='coerce').astype('Int64')  # convert to integer, nullable type"
   ]
  },
  {
   "cell_type": "code",
   "execution_count": 10,
   "metadata": {
    "execution": {
     "iopub.execute_input": "2025-06-10T20:07:01.651750Z",
     "iopub.status.busy": "2025-06-10T20:07:01.651495Z",
     "iopub.status.idle": "2025-06-10T20:07:01.676936Z",
     "shell.execute_reply": "2025-06-10T20:07:01.675913Z",
     "shell.execute_reply.started": "2025-06-10T20:07:01.651729Z"
    },
    "trusted": true
   },
   "outputs": [
    {
     "name": "stderr",
     "output_type": "stream",
     "text": [
      "C:\\Users\\91701\\AppData\\Local\\Temp\\ipykernel_18004\\3310679545.py:1: SettingWithCopyWarning: \n",
      "A value is trying to be set on a copy of a slice from a DataFrame.\n",
      "Try using .loc[row_indexer,col_indexer] = value instead\n",
      "\n",
      "See the caveats in the documentation: https://pandas.pydata.org/pandas-docs/stable/user_guide/indexing.html#returning-a-view-versus-a-copy\n",
      "  layoff_data['funds_raised'] = layoff_data['funds_raised'].str.lstrip('$')  #remove $ at the begining\n",
      "C:\\Users\\91701\\AppData\\Local\\Temp\\ipykernel_18004\\3310679545.py:2: SettingWithCopyWarning: \n",
      "A value is trying to be set on a copy of a slice from a DataFrame.\n",
      "Try using .loc[row_indexer,col_indexer] = value instead\n",
      "\n",
      "See the caveats in the documentation: https://pandas.pydata.org/pandas-docs/stable/user_guide/indexing.html#returning-a-view-versus-a-copy\n",
      "  layoff_data['funds_raised'] = pd.to_numeric(layoff_data['funds_raised'], errors='coerce').astype('Int64')  # convert to integer, nullable type\n"
     ]
    }
   ],
   "source": [
    "layoff_data['funds_raised'] = layoff_data['funds_raised'].str.lstrip('$')  #remove $ at the begining\n",
    "layoff_data['funds_raised'] = pd.to_numeric(layoff_data['funds_raised'], errors='coerce').astype('Int64')  # convert to integer, nullable type"
   ]
  },
  {
   "cell_type": "code",
   "execution_count": 11,
   "metadata": {
    "execution": {
     "iopub.execute_input": "2025-06-10T20:07:01.678656Z",
     "iopub.status.busy": "2025-06-10T20:07:01.678316Z",
     "iopub.status.idle": "2025-06-10T20:07:01.692501Z",
     "shell.execute_reply": "2025-06-10T20:07:01.691356Z",
     "shell.execute_reply.started": "2025-06-10T20:07:01.678610Z"
    },
    "trusted": true
   },
   "outputs": [
    {
     "name": "stdout",
     "output_type": "stream",
     "text": [
      "<class 'pandas.core.frame.DataFrame'>\n",
      "Index: 4074 entries, 0 to 4080\n",
      "Data columns (total 11 columns):\n",
      " #   Column               Non-Null Count  Dtype         \n",
      "---  ------               --------------  -----         \n",
      " 0   company              4074 non-null   object        \n",
      " 1   location             4073 non-null   object        \n",
      " 2   total_laid_off       2660 non-null   float64       \n",
      " 3   date                 4074 non-null   datetime64[ns]\n",
      " 4   percentage_laid_off  2591 non-null   Int64         \n",
      " 5   industry             4073 non-null   object        \n",
      " 6   source               4071 non-null   object        \n",
      " 7   stage                4074 non-null   object        \n",
      " 8   funds_raised         3632 non-null   Int64         \n",
      " 9   country              4074 non-null   object        \n",
      " 10  date_added           4074 non-null   datetime64[ns]\n",
      "dtypes: Int64(2), datetime64[ns](2), float64(1), object(6)\n",
      "memory usage: 389.9+ KB\n"
     ]
    }
   ],
   "source": [
    "layoff_data.info()"
   ]
  },
  {
   "cell_type": "code",
   "execution_count": 12,
   "metadata": {
    "execution": {
     "iopub.execute_input": "2025-06-10T20:07:01.694222Z",
     "iopub.status.busy": "2025-06-10T20:07:01.693805Z",
     "iopub.status.idle": "2025-06-10T20:07:01.714868Z",
     "shell.execute_reply": "2025-06-10T20:07:01.713671Z",
     "shell.execute_reply.started": "2025-06-10T20:07:01.694187Z"
    },
    "trusted": true
   },
   "outputs": [
    {
     "name": "stderr",
     "output_type": "stream",
     "text": [
      "C:\\Users\\91701\\AppData\\Local\\Temp\\ipykernel_18004\\1654140263.py:1: SettingWithCopyWarning: \n",
      "A value is trying to be set on a copy of a slice from a DataFrame.\n",
      "Try using .loc[row_indexer,col_indexer] = value instead\n",
      "\n",
      "See the caveats in the documentation: https://pandas.pydata.org/pandas-docs/stable/user_guide/indexing.html#returning-a-view-versus-a-copy\n",
      "  layoff_data['year'] = layoff_data['date'].dt.year #extracting year from the date as it will be used for analysing data\n"
     ]
    }
   ],
   "source": [
    "layoff_data['year'] = layoff_data['date'].dt.year #extracting year from the date as it will be used for analysing data"
   ]
  },
  {
   "cell_type": "code",
   "execution_count": 13,
   "metadata": {
    "execution": {
     "iopub.execute_input": "2025-06-10T20:07:01.716487Z",
     "iopub.status.busy": "2025-06-10T20:07:01.716064Z",
     "iopub.status.idle": "2025-06-10T20:07:01.737648Z",
     "shell.execute_reply": "2025-06-10T20:07:01.736427Z",
     "shell.execute_reply.started": "2025-06-10T20:07:01.716457Z"
    },
    "trusted": true
   },
   "outputs": [
    {
     "data": {
      "text/plain": [
       "country\n",
       "United States     2647\n",
       "India              298\n",
       "Canada             156\n",
       "United Kingdom     133\n",
       "Israel             119\n",
       "                  ... \n",
       "Saudi Arabia         1\n",
       "Malta                1\n",
       "Cyprus               1\n",
       "UAE                  1\n",
       "Myanmar              1\n",
       "Name: count, Length: 66, dtype: int64"
      ]
     },
     "execution_count": 13,
     "metadata": {},
     "output_type": "execute_result"
    }
   ],
   "source": [
    "layoff_data['country'].value_counts() # calculating counts of each value in 'country' column "
   ]
  },
  {
   "cell_type": "code",
   "execution_count": 14,
   "metadata": {
    "execution": {
     "iopub.execute_input": "2025-06-10T20:07:01.738881Z",
     "iopub.status.busy": "2025-06-10T20:07:01.738582Z",
     "iopub.status.idle": "2025-06-10T20:07:01.762381Z",
     "shell.execute_reply": "2025-06-10T20:07:01.761208Z",
     "shell.execute_reply.started": "2025-06-10T20:07:01.738860Z"
    },
    "trusted": true
   },
   "outputs": [
    {
     "data": {
      "text/plain": [
       "industry\n",
       "Finance           491\n",
       "Retail            328\n",
       "Healthcare        318\n",
       "Other             261\n",
       "Transportation    252\n",
       "Consumer          244\n",
       "Food              237\n",
       "Marketing         203\n",
       "Real Estate       161\n",
       "Education         156\n",
       "Media             151\n",
       "Crypto            151\n",
       "Security          139\n",
       "Data              130\n",
       "Travel            105\n",
       "HR                102\n",
       "Infrastructure     76\n",
       "Logistics          71\n",
       "Hardware           65\n",
       "Sales              62\n",
       "Support            60\n",
       "Recruiting         55\n",
       "Product            52\n",
       "Energy             46\n",
       "Fitness            43\n",
       "Manufacturing      25\n",
       "Construction       25\n",
       "Aerospace          24\n",
       "AI                 20\n",
       "Legal              20\n",
       "Name: count, dtype: int64"
      ]
     },
     "execution_count": 14,
     "metadata": {},
     "output_type": "execute_result"
    }
   ],
   "source": [
    "layoff_data['industry'].value_counts() # calculating counts of each value in 'industry' column "
   ]
  },
  {
   "cell_type": "code",
   "execution_count": 15,
   "metadata": {
    "execution": {
     "iopub.execute_input": "2025-06-10T20:07:01.763753Z",
     "iopub.status.busy": "2025-06-10T20:07:01.763439Z",
     "iopub.status.idle": "2025-06-10T20:07:01.783265Z",
     "shell.execute_reply": "2025-06-10T20:07:01.782464Z",
     "shell.execute_reply.started": "2025-06-10T20:07:01.763722Z"
    },
    "trusted": true
   },
   "outputs": [
    {
     "data": {
      "text/plain": [
       "stage\n",
       "Post-IPO          916\n",
       "Unknown           691\n",
       "Series B          462\n",
       "Series C          427\n",
       "Acquired          365\n",
       "Series D          342\n",
       "Series A          263\n",
       "Series E          188\n",
       "Seed              132\n",
       "Series F          110\n",
       "Private Equity     71\n",
       "Series H           35\n",
       "Subsidiary         27\n",
       "Series G           26\n",
       "Series J           10\n",
       "Series I            9\n",
       "Name: count, dtype: int64"
      ]
     },
     "execution_count": 15,
     "metadata": {},
     "output_type": "execute_result"
    }
   ],
   "source": [
    "layoff_data['stage'].value_counts() # calculating counts of each value in 'stage' column "
   ]
  },
  {
   "cell_type": "code",
   "execution_count": 16,
   "metadata": {
    "execution": {
     "iopub.execute_input": "2025-06-10T20:07:01.784389Z",
     "iopub.status.busy": "2025-06-10T20:07:01.784143Z",
     "iopub.status.idle": "2025-06-10T20:07:01.805959Z",
     "shell.execute_reply": "2025-06-10T20:07:01.805067Z",
     "shell.execute_reply.started": "2025-06-10T20:07:01.784372Z"
    },
    "trusted": true
   },
   "outputs": [
    {
     "data": {
      "text/plain": [
       "company\n",
       "Amazon               14\n",
       "Google               14\n",
       "Microsoft            13\n",
       "Rivian                8\n",
       "Expedia               8\n",
       "                     ..\n",
       "1K Kirana             1\n",
       "Amplitude             1\n",
       "Avocargo              1\n",
       "Absolute Software     1\n",
       "Tamara Mellon         1\n",
       "Name: count, Length: 2794, dtype: int64"
      ]
     },
     "execution_count": 16,
     "metadata": {},
     "output_type": "execute_result"
    }
   ],
   "source": [
    "layoff_data['company'].value_counts() # calculating counts of each value in 'company' column "
   ]
  },
  {
   "cell_type": "code",
   "execution_count": 17,
   "metadata": {
    "execution": {
     "iopub.execute_input": "2025-06-10T20:07:01.807335Z",
     "iopub.status.busy": "2025-06-10T20:07:01.806941Z",
     "iopub.status.idle": "2025-06-10T20:07:01.844959Z",
     "shell.execute_reply": "2025-06-10T20:07:01.843920Z",
     "shell.execute_reply.started": "2025-06-10T20:07:01.807306Z"
    },
    "trusted": true
   },
   "outputs": [
    {
     "data": {
      "text/html": [
       "<div>\n",
       "<style scoped>\n",
       "    .dataframe tbody tr th:only-of-type {\n",
       "        vertical-align: middle;\n",
       "    }\n",
       "\n",
       "    .dataframe tbody tr th {\n",
       "        vertical-align: top;\n",
       "    }\n",
       "\n",
       "    .dataframe thead th {\n",
       "        text-align: right;\n",
       "    }\n",
       "</style>\n",
       "<table border=\"1\" class=\"dataframe\">\n",
       "  <thead>\n",
       "    <tr style=\"text-align: right;\">\n",
       "      <th></th>\n",
       "      <th>total_laid_off</th>\n",
       "      <th>date</th>\n",
       "      <th>percentage_laid_off</th>\n",
       "      <th>funds_raised</th>\n",
       "      <th>date_added</th>\n",
       "      <th>year</th>\n",
       "    </tr>\n",
       "  </thead>\n",
       "  <tbody>\n",
       "    <tr>\n",
       "      <th>count</th>\n",
       "      <td>2660.000000</td>\n",
       "      <td>4074</td>\n",
       "      <td>2591.0</td>\n",
       "      <td>3632.0</td>\n",
       "      <td>4074</td>\n",
       "      <td>4074.000000</td>\n",
       "    </tr>\n",
       "    <tr>\n",
       "      <th>mean</th>\n",
       "      <td>278.850376</td>\n",
       "      <td>2022-11-22 22:11:50.456553728</td>\n",
       "      <td>29.253184</td>\n",
       "      <td>810.818007</td>\n",
       "      <td>2022-12-02 22:27:44.801178368</td>\n",
       "      <td>2022.440599</td>\n",
       "    </tr>\n",
       "    <tr>\n",
       "      <th>min</th>\n",
       "      <td>3.000000</td>\n",
       "      <td>2020-03-11 00:00:00</td>\n",
       "      <td>0.0</td>\n",
       "      <td>0.0</td>\n",
       "      <td>2020-03-28 00:00:00</td>\n",
       "      <td>2020.000000</td>\n",
       "    </tr>\n",
       "    <tr>\n",
       "      <th>25%</th>\n",
       "      <td>40.000000</td>\n",
       "      <td>2022-07-01 00:00:00</td>\n",
       "      <td>10.0</td>\n",
       "      <td>52.0</td>\n",
       "      <td>2022-07-11 06:00:00</td>\n",
       "      <td>2022.000000</td>\n",
       "    </tr>\n",
       "    <tr>\n",
       "      <th>50%</th>\n",
       "      <td>85.000000</td>\n",
       "      <td>2023-01-18 00:00:00</td>\n",
       "      <td>17.0</td>\n",
       "      <td>169.0</td>\n",
       "      <td>2023-01-21 00:00:00</td>\n",
       "      <td>2023.000000</td>\n",
       "    </tr>\n",
       "    <tr>\n",
       "      <th>75%</th>\n",
       "      <td>200.000000</td>\n",
       "      <td>2023-09-21 00:00:00</td>\n",
       "      <td>33.0</td>\n",
       "      <td>478.25</td>\n",
       "      <td>2023-10-04 00:00:00</td>\n",
       "      <td>2023.000000</td>\n",
       "    </tr>\n",
       "    <tr>\n",
       "      <th>max</th>\n",
       "      <td>22000.000000</td>\n",
       "      <td>2025-06-04 00:00:00</td>\n",
       "      <td>100.0</td>\n",
       "      <td>121900.0</td>\n",
       "      <td>2025-06-05 00:00:00</td>\n",
       "      <td>2025.000000</td>\n",
       "    </tr>\n",
       "    <tr>\n",
       "      <th>std</th>\n",
       "      <td>961.878216</td>\n",
       "      <td>NaN</td>\n",
       "      <td>30.141173</td>\n",
       "      <td>4595.661723</td>\n",
       "      <td>NaN</td>\n",
       "      <td>1.319380</td>\n",
       "    </tr>\n",
       "  </tbody>\n",
       "</table>\n",
       "</div>"
      ],
      "text/plain": [
       "       total_laid_off                           date  percentage_laid_off  \\\n",
       "count     2660.000000                           4074               2591.0   \n",
       "mean       278.850376  2022-11-22 22:11:50.456553728            29.253184   \n",
       "min          3.000000            2020-03-11 00:00:00                  0.0   \n",
       "25%         40.000000            2022-07-01 00:00:00                 10.0   \n",
       "50%         85.000000            2023-01-18 00:00:00                 17.0   \n",
       "75%        200.000000            2023-09-21 00:00:00                 33.0   \n",
       "max      22000.000000            2025-06-04 00:00:00                100.0   \n",
       "std        961.878216                            NaN            30.141173   \n",
       "\n",
       "       funds_raised                     date_added         year  \n",
       "count        3632.0                           4074  4074.000000  \n",
       "mean     810.818007  2022-12-02 22:27:44.801178368  2022.440599  \n",
       "min             0.0            2020-03-28 00:00:00  2020.000000  \n",
       "25%            52.0            2022-07-11 06:00:00  2022.000000  \n",
       "50%           169.0            2023-01-21 00:00:00  2023.000000  \n",
       "75%          478.25            2023-10-04 00:00:00  2023.000000  \n",
       "max        121900.0            2025-06-05 00:00:00  2025.000000  \n",
       "std     4595.661723                            NaN     1.319380  "
      ]
     },
     "execution_count": 17,
     "metadata": {},
     "output_type": "execute_result"
    }
   ],
   "source": [
    "layoff_data.describe()"
   ]
  },
  {
   "cell_type": "code",
   "execution_count": 18,
   "metadata": {
    "execution": {
     "iopub.execute_input": "2025-06-10T20:07:01.846023Z",
     "iopub.status.busy": "2025-06-10T20:07:01.845789Z",
     "iopub.status.idle": "2025-06-10T20:07:03.602337Z",
     "shell.execute_reply": "2025-06-10T20:07:03.601377Z",
     "shell.execute_reply.started": "2025-06-10T20:07:01.846003Z"
    },
    "trusted": true
   },
   "outputs": [
    {
     "data": {
      "text/plain": [
       "<Axes: xlabel='total_laid_off', ylabel='Count'>"
      ]
     },
     "execution_count": 18,
     "metadata": {},
     "output_type": "execute_result"
    },
    {
     "data": {
      "image/png": "[encoded data removed]",
      "text/plain": [
       "<Figure size 640x480 with 1 Axes>"
      ]
     },
     "metadata": {},
     "output_type": "display_data"
    }
   ],
   "source": [
    "sns.histplot(data=layoff_data, x=\"total_laid_off\", kde=True)"
   ]
  },
  {
   "cell_type": "markdown",
   "metadata": {},
   "source": [
    "Above we see a graph for total_laid_off where we see it is a very skewed data as less number of people were laid off more frequently as compared to large number of people being laid off at one time.\n",
    "We applied log scale to the above data so that graph is more clear."
   ]
  },
  {
   "cell_type": "code",
   "execution_count": 19,
   "metadata": {
    "execution": {
     "iopub.execute_input": "2025-06-10T20:07:03.603522Z",
     "iopub.status.busy": "2025-06-10T20:07:03.603228Z",
     "iopub.status.idle": "2025-06-10T20:07:04.093717Z",
     "shell.execute_reply": "2025-06-10T20:07:04.092695Z",
     "shell.execute_reply.started": "2025-06-10T20:07:03.603492Z"
    },
    "trusted": true
   },
   "outputs": [
    {
     "data": {
      "text/plain": [
       "<Axes: xlabel='total_laid_off', ylabel='Count'>"
      ]
     },
     "execution_count": 19,
     "metadata": {},
     "output_type": "execute_result"
    },
    {
     "data": {
      "image/png": "[encoded data removed]",
      "text/plain": [
       "<Figure size 640x480 with 1 Axes>"
      ]
     },
     "metadata": {},
     "output_type": "display_data"
    }
   ],
   "source": [
    "sns.histplot(data=layoff_data, x=\"total_laid_off\",log_scale=True, kde=True)"
   ]
  },
  {
   "cell_type": "markdown",
   "metadata": {},
   "source": [
    "Now we make a graph of percentage_laid_off which is the percentage people laid off  of the total number of people in the company."
   ]
  },
  {
   "cell_type": "code",
   "execution_count": 20,
   "metadata": {
    "execution": {
     "iopub.execute_input": "2025-06-10T20:07:04.095161Z",
     "iopub.status.busy": "2025-06-10T20:07:04.094837Z",
     "iopub.status.idle": "2025-06-10T20:07:04.368104Z",
     "shell.execute_reply": "2025-06-10T20:07:04.367167Z",
     "shell.execute_reply.started": "2025-06-10T20:07:04.095132Z"
    },
    "trusted": true
   },
   "outputs": [
    {
     "data": {
      "image/png": "[encoded data removed]",
      "text/plain": [
       "<Figure size 1500x600 with 1 Axes>"
      ]
     },
     "metadata": {},
     "output_type": "display_data"
    }
   ],
   "source": [
    "ax = sns.histplot(data=layoff_data, x=\"percentage_laid_off\", kde=True)\n",
    "ax.tick_params(axis='x', rotation=90)\n",
    "ax.figure.set_size_inches(15, 6)\n",
    "plt.show()"
   ]
  },
  {
   "cell_type": "markdown",
   "metadata": {},
   "source": [
    "Now we make the boxplot to figure out the outliers in the total_laid_off categoriesed by 'stage'. As we claearly see there are some outliers mostly in Post-IPO."
   ]
  },
  {
   "cell_type": "code",
   "execution_count": 21,
   "metadata": {
    "execution": {
     "iopub.execute_input": "2025-06-10T20:07:04.369525Z",
     "iopub.status.busy": "2025-06-10T20:07:04.369194Z",
     "iopub.status.idle": "2025-06-10T20:07:04.695035Z",
     "shell.execute_reply": "2025-06-10T20:07:04.693983Z",
     "shell.execute_reply.started": "2025-06-10T20:07:04.369496Z"
    },
    "trusted": true
   },
   "outputs": [
    {
     "data": {
      "image/png": "[encoded data removed]",
      "text/plain": [
       "<Figure size 640x480 with 1 Axes>"
      ]
     },
     "metadata": {},
     "output_type": "display_data"
    }
   ],
   "source": [
    "ax = sns.boxplot(x=\"stage\", y=\"total_laid_off\", data = layoff_data)\n",
    "ax.tick_params(axis='x', rotation=90)"
   ]
  },
  {
   "cell_type": "markdown",
   "metadata": {},
   "source": [
    "Now we make bar graph of total_laid_off for every year first one is total sum for every year and the second one is for average of the year."
   ]
  },
  {
   "cell_type": "code",
   "execution_count": 22,
   "metadata": {
    "execution": {
     "iopub.execute_input": "2025-06-10T20:07:04.696334Z",
     "iopub.status.busy": "2025-06-10T20:07:04.696071Z",
     "iopub.status.idle": "2025-06-10T20:07:04.853967Z",
     "shell.execute_reply": "2025-06-10T20:07:04.853127Z",
     "shell.execute_reply.started": "2025-06-10T20:07:04.696314Z"
    },
    "trusted": true
   },
   "outputs": [
    {
     "data": {
      "text/plain": [
       "<Axes: xlabel='year', ylabel='total_laid_off'>"
      ]
     },
     "execution_count": 22,
     "metadata": {},
     "output_type": "execute_result"
    },
    {
     "data": {
      "image/png": "[encoded data removed]",
      "text/plain": [
       "<Figure size 640x480 with 1 Axes>"
      ]
     },
     "metadata": {},
     "output_type": "display_data"
    }
   ],
   "source": [
    "sns.barplot(layoff_data, x=\"year\", y=\"total_laid_off\", estimator=\"sum\", errorbar=None)"
   ]
  },
  {
   "cell_type": "code",
   "execution_count": 23,
   "metadata": {
    "execution": {
     "iopub.execute_input": "2025-06-10T20:07:04.855552Z",
     "iopub.status.busy": "2025-06-10T20:07:04.855180Z",
     "iopub.status.idle": "2025-06-10T20:07:05.020004Z",
     "shell.execute_reply": "2025-06-10T20:07:05.019099Z",
     "shell.execute_reply.started": "2025-06-10T20:07:04.855524Z"
    },
    "trusted": true
   },
   "outputs": [
    {
     "data": {
      "text/plain": [
       "<Axes: xlabel='year', ylabel='total_laid_off'>"
      ]
     },
     "execution_count": 23,
     "metadata": {},
     "output_type": "execute_result"
    },
    {
     "data": {
      "image/png": "[encoded data removed]",
      "text/plain": [
       "<Figure size 640x480 with 1 Axes>"
      ]
     },
     "metadata": {},
     "output_type": "display_data"
    }
   ],
   "source": [
    "sns.barplot(layoff_data, x=\"year\", y=\"total_laid_off\", errorbar=None)"
   ]
  },
  {
   "cell_type": "markdown",
   "metadata": {},
   "source": [
    "## Preprocessing\n",
    "\n"
   ]
  },
  {
   "cell_type": "markdown",
   "metadata": {},
   "source": [
    "### Treating Null Values \n",
    "\n",
    "We will now treat null values in each column one by one starting with 'location', here we first find the row where 'location' is null we find the 'country' for the row and then corresponding to that country we find most common location and now we replace the null value with this most common value"
   ]
  },
  {
   "cell_type": "code",
   "execution_count": 24,
   "metadata": {
    "execution": {
     "iopub.execute_input": "2025-06-10T20:07:05.024251Z",
     "iopub.status.busy": "2025-06-10T20:07:05.023933Z",
     "iopub.status.idle": "2025-06-10T20:07:05.035299Z",
     "shell.execute_reply": "2025-06-10T20:07:05.034090Z",
     "shell.execute_reply.started": "2025-06-10T20:07:05.024226Z"
    },
    "trusted": true
   },
   "outputs": [
    {
     "name": "stdout",
     "output_type": "stream",
     "text": [
      "          company location  total_laid_off       date  percentage_laid_off  \\\n",
      "971  Product Hunt      NaN             NaN 2023-10-09                   60   \n",
      "\n",
      "     industry                                             source     stage  \\\n",
      "971  Consumer  https://techcrunch.com/2023/10/19/product-hunt...  Acquired   \n",
      "\n",
      "     funds_raised        country date_added  year  \n",
      "971          <NA>  United States 2023-10-15  2023  \n"
     ]
    }
   ],
   "source": [
    "print(layoff_data[layoff_data['location'].isnull()])"
   ]
  },
  {
   "cell_type": "code",
   "execution_count": 25,
   "metadata": {
    "execution": {
     "iopub.execute_input": "2025-06-10T20:07:05.037119Z",
     "iopub.status.busy": "2025-06-10T20:07:05.036760Z",
     "iopub.status.idle": "2025-06-10T20:07:05.055833Z",
     "shell.execute_reply": "2025-06-10T20:07:05.054844Z",
     "shell.execute_reply.started": "2025-06-10T20:07:05.037057Z"
    },
    "trusted": true
   },
   "outputs": [],
   "source": [
    "mydf = layoff_data[layoff_data['country'] == 'United States']"
   ]
  },
  {
   "cell_type": "code",
   "execution_count": 26,
   "metadata": {
    "execution": {
     "iopub.execute_input": "2025-06-10T20:07:05.057177Z",
     "iopub.status.busy": "2025-06-10T20:07:05.056918Z",
     "iopub.status.idle": "2025-06-10T20:07:05.075380Z",
     "shell.execute_reply": "2025-06-10T20:07:05.074533Z",
     "shell.execute_reply.started": "2025-06-10T20:07:05.057157Z"
    },
    "trusted": true
   },
   "outputs": [
    {
     "data": {
      "text/plain": [
       "location\n",
       "SF Bay Area      1016\n",
       "New York City     410\n",
       "Boston            179\n",
       "Seattle           169\n",
       "Los Angeles       153\n",
       "                 ... \n",
       "Memphis             1\n",
       "Jersey City         1\n",
       "Fort Collins        1\n",
       "Providence          1\n",
       "New Orleans         1\n",
       "Name: count, Length: 115, dtype: int64"
      ]
     },
     "execution_count": 26,
     "metadata": {},
     "output_type": "execute_result"
    }
   ],
   "source": [
    "mydf['location'].value_counts()"
   ]
  },
  {
   "cell_type": "code",
   "execution_count": 27,
   "metadata": {
    "execution": {
     "iopub.execute_input": "2025-06-10T20:07:05.076529Z",
     "iopub.status.busy": "2025-06-10T20:07:05.076257Z",
     "iopub.status.idle": "2025-06-10T20:07:05.100614Z",
     "shell.execute_reply": "2025-06-10T20:07:05.099585Z",
     "shell.execute_reply.started": "2025-06-10T20:07:05.076504Z"
    },
    "trusted": true
   },
   "outputs": [
    {
     "name": "stderr",
     "output_type": "stream",
     "text": [
      "C:\\Users\\91701\\AppData\\Local\\Temp\\ipykernel_18004\\790143322.py:1: SettingWithCopyWarning: \n",
      "A value is trying to be set on a copy of a slice from a DataFrame.\n",
      "Try using .loc[row_indexer,col_indexer] = value instead\n",
      "\n",
      "See the caveats in the documentation: https://pandas.pydata.org/pandas-docs/stable/user_guide/indexing.html#returning-a-view-versus-a-copy\n",
      "  layoff_data['location'] = layoff_data['location'].fillna('SF Bay Area')\n"
     ]
    }
   ],
   "source": [
    "layoff_data['location'] = layoff_data['location'].fillna('SF Bay Area')"
   ]
  },
  {
   "cell_type": "markdown",
   "metadata": {},
   "source": [
    "Now for 'industry' column null value we replace it with most common value"
   ]
  },
  {
   "cell_type": "code",
   "execution_count": 28,
   "metadata": {
    "execution": {
     "iopub.execute_input": "2025-06-10T20:07:05.101950Z",
     "iopub.status.busy": "2025-06-10T20:07:05.101671Z",
     "iopub.status.idle": "2025-06-10T20:07:05.122966Z",
     "shell.execute_reply": "2025-06-10T20:07:05.122096Z",
     "shell.execute_reply.started": "2025-06-10T20:07:05.101928Z"
    },
    "trusted": true
   },
   "outputs": [
    {
     "name": "stdout",
     "output_type": "stream",
     "text": [
      "       company     location  total_laid_off       date  percentage_laid_off  \\\n",
      "1013  Appsmith  SF Bay Area            35.0 2023-09-22                   25   \n",
      "\n",
      "     industry                                             source     stage  \\\n",
      "1013      NaN  https://inc42.com/buzz/exclusive-insight-partn...  Series B   \n",
      "\n",
      "      funds_raised        country date_added  year  \n",
      "1013            51  United States 2023-09-24  2023  \n"
     ]
    }
   ],
   "source": [
    "print(layoff_data[layoff_data['industry'].isnull()])"
   ]
  },
  {
   "cell_type": "code",
   "execution_count": 29,
   "metadata": {
    "execution": {
     "iopub.execute_input": "2025-06-10T20:07:05.124248Z",
     "iopub.status.busy": "2025-06-10T20:07:05.123970Z",
     "iopub.status.idle": "2025-06-10T20:07:05.141475Z",
     "shell.execute_reply": "2025-06-10T20:07:05.140457Z",
     "shell.execute_reply.started": "2025-06-10T20:07:05.124226Z"
    },
    "trusted": true
   },
   "outputs": [
    {
     "name": "stderr",
     "output_type": "stream",
     "text": [
      "C:\\Users\\91701\\AppData\\Local\\Temp\\ipykernel_18004\\1711454510.py:1: SettingWithCopyWarning: \n",
      "A value is trying to be set on a copy of a slice from a DataFrame.\n",
      "Try using .loc[row_indexer,col_indexer] = value instead\n",
      "\n",
      "See the caveats in the documentation: https://pandas.pydata.org/pandas-docs/stable/user_guide/indexing.html#returning-a-view-versus-a-copy\n",
      "  layoff_data['industry'] = layoff_data['industry'].fillna('Finance')\n"
     ]
    }
   ],
   "source": [
    "layoff_data['industry'] = layoff_data['industry'].fillna('Finance')"
   ]
  },
  {
   "cell_type": "markdown",
   "metadata": {},
   "source": [
    "For 'total_laid_off', 'percentage_laid_off', 'funds_raised' we use Random Imputation to replace null values and create new columns 'totallaidoff_random' ,'percentlaid_random' ,'fundraised_random'. <br> Also we plot kde plots of these columns to see if the original columns overlap with new ones(the more the overlap the more accurate is the method to replace null values)"
   ]
  },
  {
   "cell_type": "code",
   "execution_count": 30,
   "metadata": {
    "execution": {
     "iopub.execute_input": "2025-06-10T20:07:05.142789Z",
     "iopub.status.busy": "2025-06-10T20:07:05.142489Z",
     "iopub.status.idle": "2025-06-10T20:07:05.167677Z",
     "shell.execute_reply": "2025-06-10T20:07:05.166606Z",
     "shell.execute_reply.started": "2025-06-10T20:07:05.142760Z"
    },
    "trusted": true
   },
   "outputs": [
    {
     "name": "stderr",
     "output_type": "stream",
     "text": [
      "C:\\Users\\91701\\AppData\\Local\\Temp\\ipykernel_18004\\2896077908.py:1: SettingWithCopyWarning: \n",
      "A value is trying to be set on a copy of a slice from a DataFrame.\n",
      "Try using .loc[row_indexer,col_indexer] = value instead\n",
      "\n",
      "See the caveats in the documentation: https://pandas.pydata.org/pandas-docs/stable/user_guide/indexing.html#returning-a-view-versus-a-copy\n",
      "  layoff_data[\"totallaidoff_random\"]=layoff_data[\"total_laid_off\"]\n"
     ]
    }
   ],
   "source": [
    "layoff_data[\"totallaidoff_random\"]=layoff_data[\"total_laid_off\"]\n",
    "random_sample = layoff_data[\"total_laid_off\"].dropna().sample(layoff_data[\"total_laid_off\"].isnull().sum(),random_state=0)\n",
    "random_sample.index = layoff_data[layoff_data[\"total_laid_off\"].isnull()].index\n",
    "layoff_data.loc[layoff_data[\"total_laid_off\"].isnull(), 'totallaidoff_random']=random_sample"
   ]
  },
  {
   "cell_type": "code",
   "execution_count": 31,
   "metadata": {
    "execution": {
     "iopub.execute_input": "2025-06-10T20:07:05.168964Z",
     "iopub.status.busy": "2025-06-10T20:07:05.168645Z",
     "iopub.status.idle": "2025-06-10T20:07:05.629363Z",
     "shell.execute_reply": "2025-06-10T20:07:05.628448Z",
     "shell.execute_reply.started": "2025-06-10T20:07:05.168938Z"
    },
    "trusted": true
   },
   "outputs": [
    {
     "data": {
      "text/plain": [
       "<matplotlib.legend.Legend at 0x2a66ada1160>"
      ]
     },
     "execution_count": 31,
     "metadata": {},
     "output_type": "execute_result"
    },
    {
     "data": {
      "image/png": "[encoded data removed]",
      "text/plain": [
       "<Figure size 640x480 with 1 Axes>"
      ]
     },
     "metadata": {},
     "output_type": "display_data"
    }
   ],
   "source": [
    "fig = plt.figure()\n",
    "ax = fig.add_subplot(111)\n",
    "layoff_data['total_laid_off'].plot(kind='kde', ax=ax)\n",
    "layoff_data['totallaidoff_random'].plot(kind='kde', ax=ax, color='red')\n",
    "lines, labels = ax.get_legend_handles_labels()\n",
    "ax.legend(lines, labels, loc='best')"
   ]
  },
  {
   "cell_type": "code",
   "execution_count": 32,
   "metadata": {
    "execution": {
     "iopub.execute_input": "2025-06-10T20:07:05.630505Z",
     "iopub.status.busy": "2025-06-10T20:07:05.630261Z",
     "iopub.status.idle": "2025-06-10T20:07:05.642353Z",
     "shell.execute_reply": "2025-06-10T20:07:05.641383Z",
     "shell.execute_reply.started": "2025-06-10T20:07:05.630486Z"
    },
    "trusted": true
   },
   "outputs": [
    {
     "name": "stderr",
     "output_type": "stream",
     "text": [
      "C:\\Users\\91701\\AppData\\Local\\Temp\\ipykernel_18004\\2062168346.py:1: SettingWithCopyWarning: \n",
      "A value is trying to be set on a copy of a slice from a DataFrame.\n",
      "Try using .loc[row_indexer,col_indexer] = value instead\n",
      "\n",
      "See the caveats in the documentation: https://pandas.pydata.org/pandas-docs/stable/user_guide/indexing.html#returning-a-view-versus-a-copy\n",
      "  layoff_data[\"percentlaid_random\"]=layoff_data[\"percentage_laid_off\"]\n"
     ]
    }
   ],
   "source": [
    "layoff_data[\"percentlaid_random\"]=layoff_data[\"percentage_laid_off\"]\n",
    "random_sample = layoff_data[\"percentage_laid_off\"].dropna().sample(layoff_data[\"percentage_laid_off\"].isnull().sum(),random_state=0)\n",
    "random_sample.index = layoff_data[layoff_data[\"percentage_laid_off\"].isnull()].index\n",
    "layoff_data.loc[layoff_data[\"percentage_laid_off\"].isnull(), 'percentlaid_random']=random_sample"
   ]
  },
  {
   "cell_type": "code",
   "execution_count": 33,
   "metadata": {
    "execution": {
     "iopub.execute_input": "2025-06-10T20:07:05.643570Z",
     "iopub.status.busy": "2025-06-10T20:07:05.643291Z",
     "iopub.status.idle": "2025-06-10T20:07:06.035704Z",
     "shell.execute_reply": "2025-06-10T20:07:06.034711Z",
     "shell.execute_reply.started": "2025-06-10T20:07:05.643549Z"
    },
    "trusted": true
   },
   "outputs": [
    {
     "data": {
      "text/plain": [
       "<matplotlib.legend.Legend at 0x2a6699b5c10>"
      ]
     },
     "execution_count": 33,
     "metadata": {},
     "output_type": "execute_result"
    },
    {
     "data": {
      "image/png": "[encoded data removed]",
      "text/plain": [
       "<Figure size 640x480 with 1 Axes>"
      ]
     },
     "metadata": {},
     "output_type": "display_data"
    }
   ],
   "source": [
    "fig = plt.figure()\n",
    "ax = fig.add_subplot(111)\n",
    "layoff_data['percentage_laid_off'].plot(kind='kde', ax=ax)\n",
    "layoff_data['percentlaid_random'].plot(kind='kde', ax=ax, color='red')\n",
    "lines, labels = ax.get_legend_handles_labels()\n",
    "ax.legend(lines, labels, loc='best')"
   ]
  },
  {
   "cell_type": "code",
   "execution_count": 34,
   "metadata": {
    "execution": {
     "iopub.execute_input": "2025-06-10T20:07:06.037092Z",
     "iopub.status.busy": "2025-06-10T20:07:06.036784Z",
     "iopub.status.idle": "2025-06-10T20:07:06.048952Z",
     "shell.execute_reply": "2025-06-10T20:07:06.048034Z",
     "shell.execute_reply.started": "2025-06-10T20:07:06.037063Z"
    },
    "trusted": true
   },
   "outputs": [
    {
     "name": "stderr",
     "output_type": "stream",
     "text": [
      "C:\\Users\\91701\\AppData\\Local\\Temp\\ipykernel_18004\\3470195703.py:1: SettingWithCopyWarning: \n",
      "A value is trying to be set on a copy of a slice from a DataFrame.\n",
      "Try using .loc[row_indexer,col_indexer] = value instead\n",
      "\n",
      "See the caveats in the documentation: https://pandas.pydata.org/pandas-docs/stable/user_guide/indexing.html#returning-a-view-versus-a-copy\n",
      "  layoff_data[\"fundraised_random\"]=layoff_data[\"funds_raised\"]\n"
     ]
    }
   ],
   "source": [
    "layoff_data[\"fundraised_random\"]=layoff_data[\"funds_raised\"]\n",
    "random_sample = layoff_data[\"funds_raised\"].dropna().sample(layoff_data[\"funds_raised\"].isnull().sum(),random_state=0)\n",
    "random_sample.index = layoff_data[layoff_data[\"funds_raised\"].isnull()].index\n",
    "layoff_data.loc[layoff_data[\"funds_raised\"].isnull(), 'fundraised_random']=random_sample"
   ]
  },
  {
   "cell_type": "code",
   "execution_count": 35,
   "metadata": {
    "execution": {
     "iopub.execute_input": "2025-06-10T20:07:06.050133Z",
     "iopub.status.busy": "2025-06-10T20:07:06.049843Z",
     "iopub.status.idle": "2025-06-10T20:07:06.527932Z",
     "shell.execute_reply": "2025-06-10T20:07:06.527036Z",
     "shell.execute_reply.started": "2025-06-10T20:07:06.050108Z"
    },
    "trusted": true
   },
   "outputs": [
    {
     "data": {
      "text/plain": [
       "<matplotlib.legend.Legend at 0x2a66afb64e0>"
      ]
     },
     "execution_count": 35,
     "metadata": {},
     "output_type": "execute_result"
    },
    {
     "data": {
      "image/png": "[encoded data removed]",
      "text/plain": [
       "<Figure size 640x480 with 1 Axes>"
      ]
     },
     "metadata": {},
     "output_type": "display_data"
    }
   ],
   "source": [
    "fig = plt.figure()\n",
    "ax = fig.add_subplot(111)\n",
    "layoff_data['funds_raised'].plot(kind='kde', ax=ax)\n",
    "layoff_data['fundraised_random'].plot(kind='kde', ax=ax, color='red')\n",
    "lines, labels = ax.get_legend_handles_labels()\n",
    "ax.legend(lines, labels, loc='best')"
   ]
  },
  {
   "cell_type": "code",
   "execution_count": 36,
   "metadata": {
    "execution": {
     "iopub.execute_input": "2025-06-10T20:07:06.529297Z",
     "iopub.status.busy": "2025-06-10T20:07:06.528977Z",
     "iopub.status.idle": "2025-06-10T20:07:06.542091Z",
     "shell.execute_reply": "2025-06-10T20:07:06.541160Z",
     "shell.execute_reply.started": "2025-06-10T20:07:06.529261Z"
    },
    "trusted": true
   },
   "outputs": [
    {
     "name": "stdout",
     "output_type": "stream",
     "text": [
      "<class 'pandas.core.frame.DataFrame'>\n",
      "Index: 4074 entries, 0 to 4080\n",
      "Data columns (total 15 columns):\n",
      " #   Column               Non-Null Count  Dtype         \n",
      "---  ------               --------------  -----         \n",
      " 0   company              4074 non-null   object        \n",
      " 1   location             4074 non-null   object        \n",
      " 2   total_laid_off       2660 non-null   float64       \n",
      " 3   date                 4074 non-null   datetime64[ns]\n",
      " 4   percentage_laid_off  2591 non-null   Int64         \n",
      " 5   industry             4074 non-null   object        \n",
      " 6   source               4071 non-null   object        \n",
      " 7   stage                4074 non-null   object        \n",
      " 8   funds_raised         3632 non-null   Int64         \n",
      " 9   country              4074 non-null   object        \n",
      " 10  date_added           4074 non-null   datetime64[ns]\n",
      " 11  year                 4074 non-null   int32         \n",
      " 12  totallaidoff_random  4074 non-null   float64       \n",
      " 13  percentlaid_random   4074 non-null   Int64         \n",
      " 14  fundraised_random    4074 non-null   Int64         \n",
      "dtypes: Int64(4), datetime64[ns](2), float64(2), int32(1), object(6)\n",
      "memory usage: 509.2+ KB\n"
     ]
    }
   ],
   "source": [
    "layoff_data.info()"
   ]
  },
  {
   "cell_type": "markdown",
   "metadata": {},
   "source": [
    "### Categorical Columns\n",
    "\n",
    "Here we encode all the categorical columns i.e. 'company', 'location', 'industry', 'country', 'stage' into numerical values "
   ]
  },
  {
   "cell_type": "code",
   "execution_count": 37,
   "metadata": {
    "execution": {
     "iopub.execute_input": "2025-06-10T20:07:06.543130Z",
     "iopub.status.busy": "2025-06-10T20:07:06.542883Z",
     "iopub.status.idle": "2025-06-10T20:07:06.572087Z",
     "shell.execute_reply": "2025-06-10T20:07:06.570997Z",
     "shell.execute_reply.started": "2025-06-10T20:07:06.543105Z"
    },
    "trusted": true
   },
   "outputs": [
    {
     "name": "stderr",
     "output_type": "stream",
     "text": [
      "C:\\Users\\91701\\AppData\\Local\\Temp\\ipykernel_18004\\483741096.py:2: SettingWithCopyWarning: \n",
      "A value is trying to be set on a copy of a slice from a DataFrame.\n",
      "Try using .loc[row_indexer,col_indexer] = value instead\n",
      "\n",
      "See the caveats in the documentation: https://pandas.pydata.org/pandas-docs/stable/user_guide/indexing.html#returning-a-view-versus-a-copy\n",
      "  layoff_data['company'] = encoder.fit_transform(layoff_data['company'])\n",
      "C:\\Users\\91701\\AppData\\Local\\Temp\\ipykernel_18004\\483741096.py:3: SettingWithCopyWarning: \n",
      "A value is trying to be set on a copy of a slice from a DataFrame.\n",
      "Try using .loc[row_indexer,col_indexer] = value instead\n",
      "\n",
      "See the caveats in the documentation: https://pandas.pydata.org/pandas-docs/stable/user_guide/indexing.html#returning-a-view-versus-a-copy\n",
      "  layoff_data['location'] = encoder.fit_transform(layoff_data['location'])\n",
      "C:\\Users\\91701\\AppData\\Local\\Temp\\ipykernel_18004\\483741096.py:4: SettingWithCopyWarning: \n",
      "A value is trying to be set on a copy of a slice from a DataFrame.\n",
      "Try using .loc[row_indexer,col_indexer] = value instead\n",
      "\n",
      "See the caveats in the documentation: https://pandas.pydata.org/pandas-docs/stable/user_guide/indexing.html#returning-a-view-versus-a-copy\n",
      "  layoff_data['industry'] = encoder.fit_transform(layoff_data['industry'])\n",
      "C:\\Users\\91701\\AppData\\Local\\Temp\\ipykernel_18004\\483741096.py:5: SettingWithCopyWarning: \n",
      "A value is trying to be set on a copy of a slice from a DataFrame.\n",
      "Try using .loc[row_indexer,col_indexer] = value instead\n",
      "\n",
      "See the caveats in the documentation: https://pandas.pydata.org/pandas-docs/stable/user_guide/indexing.html#returning-a-view-versus-a-copy\n",
      "  layoff_data['country'] = encoder.fit_transform(layoff_data['country'])\n",
      "C:\\Users\\91701\\AppData\\Local\\Temp\\ipykernel_18004\\483741096.py:6: SettingWithCopyWarning: \n",
      "A value is trying to be set on a copy of a slice from a DataFrame.\n",
      "Try using .loc[row_indexer,col_indexer] = value instead\n",
      "\n",
      "See the caveats in the documentation: https://pandas.pydata.org/pandas-docs/stable/user_guide/indexing.html#returning-a-view-versus-a-copy\n",
      "  layoff_data['stage'] = encoder.fit_transform(layoff_data['stage'])\n"
     ]
    }
   ],
   "source": [
    "encoder = LabelEncoder()\n",
    "layoff_data['company'] = encoder.fit_transform(layoff_data['company'])\n",
    "layoff_data['location'] = encoder.fit_transform(layoff_data['location'])\n",
    "layoff_data['industry'] = encoder.fit_transform(layoff_data['industry'])\n",
    "layoff_data['country'] = encoder.fit_transform(layoff_data['country'])\n",
    "layoff_data['stage'] = encoder.fit_transform(layoff_data['stage'])"
   ]
  },
  {
   "cell_type": "markdown",
   "metadata": {},
   "source": [
    "We drop the 'source' column as it is not affecting our target column so we will not take this into our features.<br> Though there are outliers in our columns but we will not be removing our outliers as for this problem statement the outliers may be important for our predictions."
   ]
  },
  {
   "cell_type": "markdown",
   "metadata": {},
   "source": [
    "We divide the data into X and y. We also convert all X columns into float as all the columns have different data types. "
   ]
  },
  {
   "cell_type": "code",
   "execution_count": 38,
   "metadata": {
    "execution": {
     "iopub.execute_input": "2025-06-10T20:07:06.609746Z",
     "iopub.status.busy": "2025-06-10T20:07:06.609473Z",
     "iopub.status.idle": "2025-06-10T20:07:06.623023Z",
     "shell.execute_reply": "2025-06-10T20:07:06.622188Z",
     "shell.execute_reply.started": "2025-06-10T20:07:06.609725Z"
    },
    "trusted": true
   },
   "outputs": [],
   "source": [
    "X = layoff_data[['company', 'location', 'industry', 'country', 'year', 'totallaidoff_random', 'percentlaid_random', 'fundraised_random']]\n",
    "y = layoff_data['stage']\n",
    "X = X.astype(float)"
   ]
  },
  {
   "cell_type": "markdown",
   "metadata": {},
   "source": [
    "### Imbalanced Data \n",
    "\n",
    "We use SMOTENC to handle imbalanced data(as we have seen earlier target variable 'stage' is imbalanced) because we have categorical variables as well in our data."
   ]
  },
  {
   "cell_type": "code",
   "execution_count": 39,
   "metadata": {},
   "outputs": [],
   "source": [
    "categorical_cols = [0, 1, 2, 3] # index of company, location, etc.\n",
    "smote_nc = SMOTENC(categorical_features=categorical_cols, random_state=42)\n",
    "X_resampled, y_resampled = smote_nc.fit_resample(X, y)"
   ]
  },
  {
   "cell_type": "code",
   "execution_count": 40,
   "metadata": {
    "execution": {
     "iopub.execute_input": "2025-06-10T20:07:06.624448Z",
     "iopub.status.busy": "2025-06-10T20:07:06.624142Z",
     "iopub.status.idle": "2025-06-10T20:07:06.642132Z",
     "shell.execute_reply": "2025-06-10T20:07:06.641330Z",
     "shell.execute_reply.started": "2025-06-10T20:07:06.624425Z"
    },
    "trusted": true
   },
   "outputs": [],
   "source": [
    "X_train,X_test,y_train,y_test=train_test_split(X_resampled,y_resampled,train_size=0.7)"
   ]
  },
  {
   "cell_type": "markdown",
   "metadata": {},
   "source": [
    "## Model Implementation & Evaluation\n",
    "\n",
    "- We use AdaBoostClassifier and RandomForestClassifier to predict the 'stage' variable.\n",
    "- AdaBoost gives us just an accuracy of 40% and RandomForest gives us 80% accuracy. Hence we suggest using RandomForest algorithm for this problem statement.\n",
    "- We have predicted the best parameters for both algorithms and used accuracy score and classification report for evaluating the algorithms."
   ]
  },
  {
   "cell_type": "code",
   "execution_count": 41,
   "metadata": {
    "execution": {
     "iopub.execute_input": "2025-06-10T20:07:06.643374Z",
     "iopub.status.busy": "2025-06-10T20:07:06.643093Z"
    },
    "trusted": true
   },
   "outputs": [
    {
     "name": "stdout",
     "output_type": "stream",
     "text": [
      "Best: 0.333268 using {'algorithm': 'SAMME', 'learning_rate': 1.0, 'n_estimators': 500}\n",
      "              precision    recall  f1-score   support\n",
      "\n",
      "           0       0.10      0.04      0.06       273\n",
      "           1       0.24      0.16      0.19       297\n",
      "           2       0.16      0.23      0.18       257\n",
      "           3       0.36      0.61      0.45       283\n",
      "           4       0.19      0.47      0.27       266\n",
      "           5       0.20      0.07      0.10       267\n",
      "           6       0.22      0.14      0.17       259\n",
      "           7       0.26      0.13      0.17       279\n",
      "           8       0.22      0.30      0.25       265\n",
      "           9       0.31      0.38      0.34       298\n",
      "          10       0.38      0.32      0.35       261\n",
      "          11       0.43      0.67      0.53       277\n",
      "          12       0.77      0.81      0.79       276\n",
      "          13       0.97      0.88      0.92       264\n",
      "          14       0.50      0.32      0.39       288\n",
      "          15       0.18      0.06      0.09       287\n",
      "\n",
      "    accuracy                           0.35      4397\n",
      "   macro avg       0.34      0.35      0.33      4397\n",
      "weighted avg       0.34      0.35      0.33      4397\n",
      "\n"
     ]
    }
   ],
   "source": [
    "algo = AdaBoostClassifier()\n",
    "grid={'n_estimators':[10, 50, 100, 500], 'learning_rate':[0.0001, 0.001, 0.01, 0.1, 1.0], 'algorithm':['SAMME']}\n",
    "cv=KFold(n_splits=5,random_state=None,shuffle=False)\n",
    "clf=GridSearchCV(algo,grid,cv=cv,scoring='accuracy')\n",
    "clf.fit(X_train,y_train)\n",
    "y_pred=clf.predict(X_test)\n",
    "print(\"Best: %f using %s\" % (clf.best_score_, clf.best_params_))\n",
    "print(classification_report(y_test, y_pred))"
   ]
  },
  {
   "cell_type": "code",
   "execution_count": 42,
   "metadata": {},
   "outputs": [
    {
     "name": "stdout",
     "output_type": "stream",
     "text": [
      "Best: 0.791012 using {'criterion': 'gini', 'n_estimators': 500}\n",
      "[[176  10   6   7  22  15  12   6   2   2   3   0   0   0   3   9]\n",
      " [ 21 167   5   7   9  11  13  10  21   9   3   2   0   1   7  11]\n",
      " [  2   4 232   2   2   2   3   2   4   2   0   0   0   0   1   1]\n",
      " [  0   3   0 266   7   4   1   0   0   1   0   0   0   0   0   1]\n",
      " [  4   0   2  12 223   9   7   2   2   3   0   0   0   0   1   1]\n",
      " [  7  12   3   4  29 170  19   4   6   2   0   1   0   0   2   8]\n",
      " [  8   8   3   0   5  24 178   8   8   4   0   0   0   0   2  11]\n",
      " [  3  15   5   0   3   8  21 191  20   7   0   0   0   0   4   2]\n",
      " [  1   9   0   0   0   2   4   8 225   3   0   1   0   0   3   9]\n",
      " [  0   6   0   0   0   0   6   7   9 266   1   2   0   0   1   0]\n",
      " [  0   1   0   0   0   0   0   0   0   0 259   0   0   0   0   1]\n",
      " [  0   1   0   0   0   1   0   0   0   0   0 275   0   0   0   0]\n",
      " [  0   1   0   0   0   0   0   0   1   0   0   0 274   0   0   0]\n",
      " [  0   0   0   0   0   0   0   0   0   0   0   0   0 264   0   0]\n",
      " [  0   2   0   0   0   0   0   0   0   1   0   2   0   1 282   0]\n",
      " [ 19  17   7  14  31  26  27  13  21   6   1   2   1   0   7  95]]\n",
      "              precision    recall  f1-score   support\n",
      "\n",
      "           0       0.73      0.64      0.68       273\n",
      "           1       0.65      0.56      0.60       297\n",
      "           2       0.88      0.90      0.89       257\n",
      "           3       0.85      0.94      0.89       283\n",
      "           4       0.67      0.84      0.75       266\n",
      "           5       0.62      0.64      0.63       267\n",
      "           6       0.61      0.69      0.65       259\n",
      "           7       0.76      0.68      0.72       279\n",
      "           8       0.71      0.85      0.77       265\n",
      "           9       0.87      0.89      0.88       298\n",
      "          10       0.97      0.99      0.98       261\n",
      "          11       0.96      0.99      0.98       277\n",
      "          12       1.00      0.99      0.99       276\n",
      "          13       0.99      1.00      1.00       264\n",
      "          14       0.90      0.98      0.94       288\n",
      "          15       0.64      0.33      0.44       287\n",
      "\n",
      "    accuracy                           0.81      4397\n",
      "   macro avg       0.80      0.81      0.80      4397\n",
      "weighted avg       0.80      0.81      0.80      4397\n",
      "\n"
     ]
    }
   ],
   "source": [
    "algo = RandomForestClassifier()\n",
    "grid={'n_estimators': [50,100,500], 'criterion' : ['gini', 'entropy']}\n",
    "cv=KFold(n_splits=5,random_state=None,shuffle=False)\n",
    "clf=GridSearchCV(algo,grid,cv=cv,scoring='accuracy')\n",
    "clf.fit(X_train,y_train)\n",
    "y_pred=clf.predict(X_test)\n",
    "print(\"Best: %f using %s\" % (clf.best_score_, clf.best_params_))\n",
    "print(confusion_matrix(y_test,y_pred))\n",
    "print(classification_report(y_test, y_pred))"
   ]
  }
 ],
 "metadata": {
  "kaggle": {
   "accelerator": "none",
   "dataSources": [
    {
     "datasetId": 2626311,
     "sourceId": 12113332,
     "sourceType": "datasetVersion"
    }
   ],
   "dockerImageVersionId": 31040,
   "isGpuEnabled": false,
   "isInternetEnabled": false,
   "language": "python",
   "sourceType": "notebook"
  },
  "kernelspec": {
   "display_name": "base",
   "language": "python",
   "name": "python3"
  },
  "language_info": {
   "codemirror_mode": {
    "name": "ipython",
    "version": 3
   },
   "file_extension": ".py",
   "mimetype": "text/x-python",
   "name": "python",
   "nbconvert_exporter": "python",
   "pygments_lexer": "ipython3",
   "version": "3.12.7"
  }
 },
 "nbformat": 4,
 "nbformat_minor": 4
}
